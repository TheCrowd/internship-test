{
 "cells": [
  {
   "cell_type": "markdown",
   "metadata": {},
   "source": [
    "# Bayesian Probability\n",
    "<b>Bayesian Probability</b> is an interpretation of the concept of probability, in which probability is interprated as quantification of a personal belief.\n",
    "\n",
    "<b>Prior Probability</b> stands for one's beliefs about something might happen before some evidence is taken into account. Prior probability can be used to calculate posterior probabilities in Bayesian Thoery.\n",
    "\n",
    "<b>Posterior Probability</b> is the probability of something that might happen after some evidence is taken into account. The evidence can be obtained from a survey or experiment. \n",
    "\n",
    "To better demonstrate the concept and terminolgoies of Bayesian Probability, I will introduce an example in the following paragraphs.\n",
    "\n",
    "Imagine a car hits someone and run away in Melbourne city. Cars only have two colors,blue and green, the probability of car being blue is 15% and the the probability of green is 85%. When the accident occured, there is an audience, and the audience suggests that the car is blue. However, the audience only has 80% probability to be right given that it is chaotic and crowded in city. The question is what is the probability that the run-away car is blue？\n",
    "\n",
    "Now, we assign B as the event of the car being blue, G as the event of the car being green, E as the event of the car being seen as blue. According to known conditions,P(B)=0.15,P(G)=P(~B)=0.85.As for P(E), we will calculate it later.\n",
    "\n",
    "Now, we assume that we don't know there is an audience,so we need to guess the color of the car based on the probability of cars, which is a <b>prior probability</b>,P(B)=0.15. This is the probability without <b>evidence</b>"
   ]
  },
  {
   "cell_type": "code",
   "execution_count": 7,
   "metadata": {
    "collapsed": true
   },
   "outputs": [],
   "source": [
    "#initial prior probability\n",
    "P={}\n",
    "P['B']=0.15\n",
    "P['G']=0.85\n",
    "P['~B']=0.85\n",
    "\n",
    "# the probability that the audience see the car as blue given that the car is blue\n",
    "P['E|B']=0.8\n",
    "\n",
    "# the probability that the audience see the car as blue given that the car is green\n",
    "P['E|~B']=0.2"
   ]
  },
  {
   "cell_type": "markdown",
   "metadata": {},
   "source": [
    "Then,an audience shows up. The audience says that he saw the car and it is blue. <b>Note that there are two situations now</b>:one is that the car is blue, and the audience see it as blue and another is that the car is green,but the audience see it as blue. \n",
    "The probabilities for the two situations:"
   ]
  },
  {
   "cell_type": "code",
   "execution_count": 8,
   "metadata": {},
   "outputs": [
    {
     "name": "stdout",
     "output_type": "stream",
     "text": [
      "P(E,B)= 0.120000\n",
      "P(E,~B)= 0.170000\n"
     ]
    }
   ],
   "source": [
    "#the probability that the car is blue and the audience see it as blue\n",
    "P['E,B']=P['B']*P['E|B']\n",
    "print('P(E,B)= %f'%P['E,B'])\n",
    "#the probability that the car is green and the audience see it as blue\n",
    "P['E,~B']=P['~B']*P['E|~B']\n",
    "print('P(E,~B)= %f'%P['E,~B'])"
   ]
  },
  {
   "cell_type": "markdown",
   "metadata": {},
   "source": [
    "so we have the probability of P(E)"
   ]
  },
  {
   "cell_type": "code",
   "execution_count": 9,
   "metadata": {},
   "outputs": [
    {
     "name": "stdout",
     "output_type": "stream",
     "text": [
      "P(E)=0.290000\n"
     ]
    }
   ],
   "source": [
    "P['E']=P['E,B']+P['E,~B']\n",
    "print('P(E)=%f'%P['E'])"
   ]
  },
  {
   "cell_type": "markdown",
   "metadata": {},
   "source": [
    "Now, we can calculate the posterior probability P(B|E)"
   ]
  },
  {
   "cell_type": "code",
   "execution_count": 11,
   "metadata": {},
   "outputs": [
    {
     "name": "stdout",
     "output_type": "stream",
     "text": [
      "P(B|E)=0.413793\n"
     ]
    }
   ],
   "source": [
    "P['B|E']=P['E,B']/P['E']\n",
    "print('P(B|E)=%f'%P['B|E'])"
   ]
  },
  {
   "cell_type": "markdown",
   "metadata": {},
   "source": [
    "Next, we can update prior probability P(B) as P(B|E). Now,we assume that we have find another audience, we can calculate the new posterior probability based on the updated prior probability."
   ]
  },
  {
   "cell_type": "code",
   "execution_count": 12,
   "metadata": {},
   "outputs": [
    {
     "name": "stdout",
     "output_type": "stream",
     "text": [
      "P(E,B)= 0.331034\n",
      "P(E,~B)= 0.117241\n",
      "P(E)=0.448276\n",
      "P(B|E)=0.738462\n"
     ]
    }
   ],
   "source": [
    "P['B']=P['B|E']\n",
    "P['G']=1-P['B']\n",
    "P['~B']=1-P['B']\n",
    "\n",
    "# the probability that the audience see the car as blue given that the car is blue\n",
    "P['E|B']=0.8\n",
    "\n",
    "# the probability that the audience see the car as blue given that the car is green\n",
    "P['E|~B']=0.2\n",
    "\n",
    "#the probability that the car is blue and the audience see it as blue\n",
    "P['E,B']=P['B']*P['E|B']\n",
    "print('P(E,B)= %f'%P['E,B'])\n",
    "#the probability that the car is green and the audience see it as blue\n",
    "P['E,~B']=P['~B']*P['E|~B']\n",
    "print('P(E,~B)= %f'%P['E,~B'])\n",
    "\n",
    "P['E']=P['E,B']+P['E,~B']\n",
    "print('P(E)=%f'%P['E'])\n",
    "\n",
    "P['B|E']=P['E,B']/P['E']\n",
    "print('P(B|E)=%f'%P['B|E'])"
   ]
  }
 ],
 "metadata": {
  "kernelspec": {
   "display_name": "Python 3",
   "language": "python",
   "name": "python3"
  },
  "language_info": {
   "codemirror_mode": {
    "name": "ipython",
    "version": 3
   },
   "file_extension": ".py",
   "mimetype": "text/x-python",
   "name": "python",
   "nbconvert_exporter": "python",
   "pygments_lexer": "ipython3",
   "version": "3.6.3"
  }
 },
 "nbformat": 4,
 "nbformat_minor": 2
}
